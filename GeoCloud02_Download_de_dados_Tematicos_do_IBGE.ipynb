{
  "nbformat": 4,
  "nbformat_minor": 0,
  "metadata": {
    "colab": {
      "name": "GeoCloud02 - Download de dados Tematicos do IBGE.ipynb",
      "provenance": [],
      "collapsed_sections": [],
      "authorship_tag": "ABX9TyMh4hiaYGecffih+NDqqIRs",
      "include_colab_link": true
    },
    "kernelspec": {
      "name": "python3",
      "display_name": "Python 3"
    }
  },
  "cells": [
    {
      "cell_type": "markdown",
      "metadata": {
        "id": "view-in-github",
        "colab_type": "text"
      },
      "source": [
        "<a href=\"https://colab.research.google.com/github/sclaudiobr/geocloud/blob/main/GeoCloud02_Download_de_dados_Tematicos_do_IBGE.ipynb\" target=\"_parent\"><img src=\"https://colab.research.google.com/assets/colab-badge.svg\" alt=\"Open In Colab\"/></a>"
      ]
    },
    {
      "cell_type": "markdown",
      "metadata": {
        "id": "Cz5XZv8idN2R"
      },
      "source": [
        "GeoCloud 02 - Download de dados Temáticos do IBGE\n",
        "\n",
        "Ferramenta para recortar  e baixar dados temáticos disponíveis na base de dados do IBGE, através da biblioteca [WFs](https://inde.gov.br/) selecionados a partir dos limites municipais da base de dados do IBGE através da biblioteca [geoBR](https://pypi.org/project/geobr/). Neste  algoritmo foram selecionados os temas Geologia, Geomorfologia, Solos e Vegetação. Ao final do processo uma pasta compactada é gerada para o download de cada camada de dados.\n",
        "\n",
        "<hr>\n",
        "@ autor Claudio Roberto Oliveira da Silva \n",
        "<p> Bel. Lic. Ciências Biológicas - UNL/AM - 2005\n",
        "<p>MSc. Modelagem Computacional, Eng. Civil - COPPE/UFRJ - 2008\n",
        "<p>Tecnólogo de Geoprocessamento, Cursando - UFSM - 2018\n",
        "<p>email: <a href= \"mailto:claumao@gmail.com\"> claumao@gmail.com</a>\n",
        "<p> Repositório: <a href=\"https://github.com/sclaudiobr/\"> GitHub</a>"
      ]
    },
    {
      "cell_type": "code",
      "metadata": {
        "id": "HnqY3fm2aDUO"
      },
      "source": [
        "# Baixa e instala bibliotecas\n",
        "!pip install geobr # Base de dados do IBGE, malhas municipais, biomas, microrregiões, sedes\n",
        "!pip install shapely  # Conversor e leitor de arquivos shp \n",
        "!pip install OWSLib # Acesso ao banco de dados WFS/WMS/OWS\n",
        "!pip install pygeos # Biblioteca de apoio ao Geopandas\n",
        "!pip install --upgrade shapely\n",
        "!pip install rtree"
      ],
      "execution_count": null,
      "outputs": []
    },
    {
      "cell_type": "code",
      "metadata": {
        "id": "r_BWdUgPU-Bu"
      },
      "source": [
        "from genericpath import exists\n",
        "#------ Importa bibliotecas --------\n",
        "import numpy as np\n",
        "import geobr as br\n",
        "import geopandas as gpd\n",
        "import os\n",
        "import owslib.wfs as ows\n",
        "from owslib.wfs import WebFeatureService\n",
        "from shapely.geometry import box\n",
        "import zipfile\n",
        "# --- cria diretório usando o shell\n",
        "!mkdir shp/\n",
        "### ---- FUNÇÃO BAIXAR DADOS -----------------------------\n",
        "### Esta função recebe os parâmetros UF, nome no municíípio e identificador da camada de dados de interesse. '''\n",
        "def gera_dados(uf,mun,id):\n",
        "   df = br.read_municipality(code_muni=uf)\n",
        "   df = df[df.name_muni==mun]\n",
        "   dfbox = box(*df.total_bounds).bounds\n",
        "   latitude,longitude = np.array(dfbox)[1],np.array(dfbox)[2]\n",
        "   wfs_url = 'https://geoservicos.ibge.gov.br/geoserver/wfs'\n",
        "   # Conectando ao serviço do GeoServer WFS.\n",
        "   wfs = WebFeatureService(wfs_url, version='2.0.0')\n",
        "   data = wfs.getfeature(typename=id, bbox=dfbox, outputFormat='JSON')\n",
        "   fn = 'df.geojson'\n",
        "   with open(fn, 'wb') as fh:\n",
        "      fh.write(data.read())\n",
        "   layers = gpd.read_file(fn)\n",
        "   recorte = gpd.clip(layers, df,keep_geom_type=False,)\n",
        "   recorte.to_file('shp/df.shp', driver='ESRI Shapefile')\n",
        "\n",
        "# ----- FUNÇÃO COMPACTA PASTAS MANTENDO A ESTRUTURA\n",
        "def zip(src, dst):\n",
        "    zf = zipfile.ZipFile(\"%s.zip\" % (dst), \"w\", zipfile.ZIP_DEFLATED)\n",
        "    abs_src = os.path.abspath(src)\n",
        "    for dirname, subdirs, files in os.walk(src):\n",
        "        for filename in files:\n",
        "            absname = os.path.abspath(os.path.join(dirname, filename))\n",
        "            arcname = absname[len(abs_src) + 1:]\n",
        "            print('zipping %s as %s' % (os.path.join(dirname, filename), arcname))\n",
        "            zf.write(absname, arcname)\n",
        "    zf.close()\n",
        "\n",
        "# Identficadores das camadas\n",
        "geo = 'CREN:Geologia_area_Brasil'\n",
        "geom = 'CREN:Geomorfologia_area_Brasil'\n",
        "ped = 'CREN:Pedologia_area_Brasil'\n",
        "veg = 'CREN:vegetacao_area_brasil'\n",
        "\n",
        "\n",
        "#### TROCA OS DADOS AQUI ########################\n",
        "UF = 'AM'                       # <---- Estado aqui\n",
        "mun = \"Manaus\"                  #<--- Municipio Aqui (nome com acentuação)\n",
        "camada = geom                   # <-- Camada de dados id (veg,geo,geom,ped)\n",
        "nome_do_zip = camada[5:-12]      # <-  (nome sem acento)\n",
        "#############################################\n",
        "gera_dados(UF,mun,camada)\n",
        "\n",
        "zip(\"shp\",nome_do_zip)\n",
        "\n",
        "# Plotando o mapa\n",
        "gdf =gpd.read_file('shp/df.shp')\n",
        "gdf.plot(figsize=(40,10), alpha=0.5, edgecolor='k', cmap=\"jet\",column='legenda', legend=True)"
      ],
      "execution_count": null,
      "outputs": []
    }
  ]
}